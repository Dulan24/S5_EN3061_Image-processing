{
 "cells": [
  {
   "cell_type": "markdown",
   "metadata": {},
   "source": [
    "Question 2"
   ]
  },
  {
   "cell_type": "code",
   "execution_count": 2,
   "metadata": {},
   "outputs": [],
   "source": [
    "from scipy.optimize import minimize\n",
    "from scipy import linalg\n",
    "import matplotlib.pyplot as plt\n",
    "import tikzplotlib\n",
    "import numpy as np\n",
    "\n",
    "# np.random.seed(0)\n",
    "N = 100\n",
    "half_n = N/2\n",
    "r = 10\n",
    "x0_gt, y0_gt = 2,3 # center\n",
    "s = r /16\n",
    "t = np.random.uniform(0, 2*np.pi, half_n)\n",
    "n = s*np.random.randn(half_n)\n",
    "x, y = x0_gt + (r + n)*np.cos(t), y0_gt + (r + n)*np.sin(t)\n",
    "X_circ = np.hstack((x.reshape(half_n,1), y.reshape(half_n,1)))\n",
    "s = 1\n",
    "m, b = -1, 2\n",
    "x = np.linspace(-12, 12, half_n)\n",
    "y = m*x + b + s*np.random.randn(half_n)\n",
    "X_line = np.hstack((x.reshape(half_n, 1), y.reshape(half_n, 1)))\n",
    "X = np.vstack((X_circ, X_line)) #All points\n",
    "\n",
    "fig, ax = plt.subplot(1,1, figsize=(8,8))\n",
    "ax.scatter(X_line[:,0], X_line[:,1], label='Line')\n",
    "ax.scatter(X_circ[:,0], X_circ[:,1], label='Circle')\n",
    "circle_gt = plt.Circle((x0_gt,y0_gt), r, color='g', fill=False, label='Ground_truth_circle')\n",
    "ax.add_patch(circle_gt)\n",
    "ax.plot((x0_gt), (y0_gt), '+', color='g')\n",
    "x_min, x_max = ax.get_xlim()\n",
    "x_ = np.array([x_min, x_max])\n",
    "y = m*x_ + b\n",
    "plt.plot(x_, y_, color='m', label='Ground_truth_line')"
   ]
  },
  {
   "cell_type": "code",
   "execution_count": null,
   "metadata": {},
   "outputs": [],
   "source": []
  }
 ],
 "metadata": {
  "kernelspec": {
   "display_name": "Python 3",
   "language": "python",
   "name": "python3"
  },
  "language_info": {
   "codemirror_mode": {
    "name": "ipython",
    "version": 3
   },
   "file_extension": ".py",
   "mimetype": "text/x-python",
   "name": "python",
   "nbconvert_exporter": "python",
   "pygments_lexer": "ipython3",
   "version": "3.11.4"
  },
  "orig_nbformat": 4
 },
 "nbformat": 4,
 "nbformat_minor": 2
}
